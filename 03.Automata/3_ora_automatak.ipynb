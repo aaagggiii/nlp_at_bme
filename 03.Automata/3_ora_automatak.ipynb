{
 "cells": [
  {
   "cell_type": "markdown",
   "metadata": {},
   "source": [
    "# 3. óra\n",
    "## 1. Automaták\n"
   ]
  },
  {
   "cell_type": "code",
   "execution_count": null,
   "metadata": {},
   "outputs": [],
   "source": [
    "# állapotátmenetek\n",
    "d = {\n",
    "    0:{'b':1},\n",
    "    1:{'e':2},\n",
    "    2:{'e':3},\n",
    "    3:{'e':3, '!':4},\n",
    "    4:{}\n",
    "}\n",
    "\n",
    "\n",
    "# automata\n",
    "def fsa(transitions, start, accepts, text):\n",
    "    state = start\n",
    "    for char in text:\n",
    "        state = transitions[state].get(char)\n",
    "        if state == None:\n",
    "            return False\n",
    "    return state in accepts\n",
    "\n",
    "\n",
    "# teszt\n",
    "for tok in ['bee!', 'beeeee!', 'be!', 'beee!!', 'xxx']:\n",
    "    result = fsa(d, 0, {4}, tok)\n",
    "    print(tok, result, sep='\\t')"
   ]
  },
  {
   "cell_type": "markdown",
   "metadata": {},
   "source": [
    "## 2. NLTK\n",
    "\n",
    "__NLTK__: Natural Language Toolkit, NLP eszközök és erőforrások Pythonos gyűjteménye.\n",
    "\n",
    "Erőforrások kezelése"
   ]
  },
  {
   "cell_type": "code",
   "execution_count": null,
   "metadata": {},
   "outputs": [],
   "source": [
    "import nltk\n",
    "\n",
    "# nltk.download();\n",
    "\n",
    "nltk.download('brown');"
   ]
  },
  {
   "cell_type": "markdown",
   "metadata": {},
   "source": [
    "#### Reguláris kifejezésekkel való elemzés\n",
    "\n",
    "- reguláris kifejezések alapján taget rendel egy-egy tokenhez\n",
    "- sorrend fontos"
   ]
  },
  {
   "cell_type": "code",
   "execution_count": null,
   "metadata": {},
   "outputs": [],
   "source": [
    "import nltk\n",
    "\n",
    "from nltk.corpus import brown\n",
    "\n",
    "brown_sents = brown.sents(categories='news')\n",
    "\n",
    "patterns = [\n",
    "    (r'.*ing$', 'VBG'),   # gerunds\n",
    "    (r'.*ed$', 'VBD'),    # simple past\n",
    "    (r'.*es$', 'VBZ'),    # 3rd singular present\n",
    "    (r'.*', 'NN'),        # nouns\n",
    "]\n",
    "\n",
    "re_tagger = nltk.RegexpTagger(patterns)\n",
    "re_tagger.tag(brown_sents[5])"
   ]
  },
  {
   "cell_type": "markdown",
   "metadata": {},
   "source": [
    "#### CFG nyelvtannal való elemzés\n",
    "\n",
    "- __CFG__: context-free grammar\n",
    "- nyelvtan megadásával\n",
    "- terminális: sztringek\n",
    "- nem-terminális: idézőjel nélkül\n",
    "- egy sor egy szabály\n",
    "- \"->\" választja el a szabály input és output oldalát"
   ]
  },
  {
   "cell_type": "code",
   "execution_count": null,
   "metadata": {},
   "outputs": [],
   "source": [
    "%%bash \n",
    "cat np.cfg"
   ]
  },
  {
   "cell_type": "code",
   "execution_count": null,
   "metadata": {},
   "outputs": [],
   "source": [
    "from nltk.parse import TestGrammar\n",
    "\n",
    "test1 = {}\n",
    "test1['doc'] = 'határozatlan névelő'\n",
    "test1['accept'] = ['egy macska', 'egy kutya']\n",
    "test1['reject'] = ['macska egy']\n",
    "\n",
    "test2 = {}\n",
    "test2['doc'] = 'határozott névelő'\n",
    "test2['accept'] = ['a macska', 'a kutya']\n",
    "test2['reject'] = ['macska a']\n",
    "\n",
    "testsuite = [test1, test2]\n",
    "tester = TestGrammar('np.cfg', testsuite)\n",
    "tester.run()"
   ]
  },
  {
   "cell_type": "code",
   "execution_count": null,
   "metadata": {},
   "outputs": [],
   "source": [
    "from nltk import CFG\n",
    "from nltk.parse import RecursiveDescentParser\n",
    "\n",
    "npgram = CFG.fromstring(open('np.cfg').read())\n",
    "rdp = RecursiveDescentParser(npgram)\n",
    "t1 = list(rdp.parse('a macska'.split()))\n",
    "t2 = list(rdp.parse('a egy'.split()))\n",
    "\n",
    "print(t1)\n",
    "print(t2)"
   ]
  },
  {
   "cell_type": "code",
   "execution_count": null,
   "metadata": {},
   "outputs": [],
   "source": [
    "t = t1[0]\n",
    "print(type(t))     # típus\n",
    "\n",
    "t.pretty_print()   # ágrajz"
   ]
  },
  {
   "cell_type": "code",
   "execution_count": null,
   "metadata": {},
   "outputs": [],
   "source": [
    "for tree in list(t.subtrees()): # alfák\n",
    "    print(tree)\n",
    "print(t.pos())                  # levelek címkéi"
   ]
  },
  {
   "cell_type": "code",
   "execution_count": null,
   "metadata": {},
   "outputs": [],
   "source": [
    "for i in t.pos():  # tsv\n",
    "    print(i[0], i[1], sep='\\t')"
   ]
  },
  {
   "cell_type": "markdown",
   "metadata": {},
   "source": [
    "## 3. Órai feladatok\n",
    "\n",
    "\n",
    "1. Írjunk reguláris kifejezéseket a magyar főnevek különböző alakjainak felismeréséhez:\n",
    "    - egyes számú tárgyesetű főnevek (kutyát),\n",
    "    - többes számú alanyesetű főnevek (kutyák), \n",
    "    - többes számú tárgyesetű főnevek (kutyákat).\n",
    "2. Bővítsük az NP-felismerőt úgy, hogy:\n",
    "    - kezelni tudja a mellékneves szerkezeteket is! (a szürke macska, egy nagy kutya, stb.)\n",
    "    - kezelni tudja a névelő nélküli szerkezeteket is! (szürke macska, kutya, stb.)    \n",
    "3. Írjunk automatát a következő mondatok elfogadására:\n",
    "    - Python is amazing. / Python is not amazing. / Python is cool. / Python is not cool.\n",
    "    - Java is amazing. / Java is not amazing. / Java is cool. / Java is not cool."
   ]
  }
 ],
 "metadata": {
  "kernelspec": {
   "display_name": "Python 3",
   "language": "python",
   "name": "python3"
  },
  "language_info": {
   "codemirror_mode": {
    "name": "ipython",
    "version": 3
   },
   "file_extension": ".py",
   "mimetype": "text/x-python",
   "name": "python",
   "nbconvert_exporter": "python",
   "pygments_lexer": "ipython3",
   "version": "3.6.0"
  }
 },
 "nbformat": 4,
 "nbformat_minor": 2
}
